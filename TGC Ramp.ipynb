{
 "cells": [
  {
   "cell_type": "code",
   "execution_count": 1,
   "metadata": {},
   "outputs": [],
   "source": [
    "import matplotlib.pyplot as plt\n",
    "import numpy as np"
   ]
  },
  {
   "cell_type": "code",
   "execution_count": 3,
   "metadata": {},
   "outputs": [
    {
     "data": {
      "text/plain": [
       "<Figure size 432x288 with 0 Axes>"
      ]
     },
     "metadata": {},
     "output_type": "display_data"
    },
    {
     "data": {
      "image/png": "[encoded data removed]",
      "text/plain": [
       "<Figure size 432x288 with 4 Axes>"
      ]
     },
     "metadata": {},
     "output_type": "display_data"
    }
   ],
   "source": [
    "fig = plt.figure()\n",
    "fig.suptitle('No axes on this figure')\n",
    "fig, ax_lst = plt.subplots(2,2) # figure with 2x2 grid of axes"
   ]
  },
  {
   "cell_type": "code",
   "execution_count": 30,
   "metadata": {},
   "outputs": [
    {
     "name": "stdout",
     "output_type": "stream",
     "text": [
      "3500000.0\n",
      "28000000.0\n"
     ]
    }
   ],
   "source": [
    "# up, down ramp - DS p.38\n",
    "#tmax = 53e6  # wrong.  see total_time below\n",
    "# Sampling clock is input clock - 28MHz. \n",
    "# Each half-cycle of fs a sample (14 bits) comes out. (Table 14, p.64)\n",
    "fs = 28e6\n",
    "ts = 1.0 / fs \n",
    "t_pos_step_f = fs / (2**(7 - 4))\n",
    "t_neg_step_f = fs / (2**(7 - 7))\n",
    "print(fs / 8)\n",
    "print(fs)"
   ]
  },
  {
   "cell_type": "code",
   "execution_count": 18,
   "metadata": {},
   "outputs": [],
   "source": [
    "start_gain = 6 + 80*0.125  # 16dB\n",
    "# stop gain is the top of the ramp.  Must be larger than start gain.\n",
    "# Gain N must be 0 to 319.  A value outside this range automatically goes to 0.\n",
    "stop_gain = 6 + 220*0.125  # 33.5dB"
   ]
  },
  {
   "cell_type": "code",
   "execution_count": 21,
   "metadata": {},
   "outputs": [
    {
     "name": "stdout",
     "output_type": "stream",
     "text": [
      "7.314285714285714e-05\n"
     ]
    }
   ],
   "source": [
    "# Time for entire image frame:\n",
    "total_time = (1.0 / fs) * 2048\n",
    "print(total_time)"
   ]
  },
  {
   "cell_type": "code",
   "execution_count": 23,
   "metadata": {},
   "outputs": [
    {
     "name": "stdout",
     "output_type": "stream",
     "text": [
      "4e-05\n"
     ]
    }
   ],
   "source": [
    "ramp_up_time = (33.5 - 16) / 0.125 / t_pos_step_f\n",
    "print(ramp_up_time)"
   ]
  },
  {
   "cell_type": "code",
   "execution_count": 24,
   "metadata": {},
   "outputs": [
    {
     "name": "stdout",
     "output_type": "stream",
     "text": [
      "5e-06\n"
     ]
    }
   ],
   "source": [
    "ramp_down_time = (33.5 - 16) / 0.125 / t_neg_step_f\n",
    "print(ramp_down_time)"
   ]
  },
  {
   "cell_type": "code",
   "execution_count": 35,
   "metadata": {},
   "outputs": [
    {
     "data": {
      "text/plain": [
       "0.03571428571428571"
      ]
     },
     "execution_count": 35,
     "metadata": {},
     "output_type": "execute_result"
    }
   ],
   "source": [
    "# fs period is 35.7ns\n",
    "1/28.0"
   ]
  },
  {
   "cell_type": "code",
   "execution_count": 75,
   "metadata": {},
   "outputs": [
    {
     "data": {
      "image/png": "[encoded data removed]",
      "text/plain": [
       "<Figure size 648x288 with 2 Axes>"
      ]
     },
     "metadata": {},
     "output_type": "display_data"
    }
   ],
   "source": [
    "t = np.arange(0, total_time, total_time / 2048)\n",
    "gain = []\n",
    "gainv = start_gain\n",
    "cnt = 0\n",
    "for tn in t:\n",
    "    cnt += 1\n",
    "    if tn < 5e-6:\n",
    "        gainv = start_gain\n",
    "        gain.append(gainv)\n",
    "    elif tn < 50e-6 and gainv < stop_gain and cnt % 8 == 0:\n",
    "        gainv += 0.125\n",
    "        gain.append(gainv)\n",
    "    elif tn > 55e-6 and gainv > start_gain:\n",
    "        gainv -= 0.125\n",
    "        gain.append(gainv)\n",
    "    else:\n",
    "        gain.append(gainv)\n",
    "        \n",
    "\n",
    "fig = plt.figure(figsize=(9, 4))\n",
    "ax1 = fig.add_subplot(111)\n",
    "\n",
    "#ax2 = ax1.twiny()\n",
    "#depth = []\n",
    "#for i, n in enumerate(t):\n",
    "#    if i % 256 == 0:\n",
    "#        depth.append(n)\n",
    "#ax2.set_xticks(depth)\n",
    "#ax2.set_xlabel(r'Depth in water')\n",
    "\n",
    "ax1.plot(t*10e5, gain)\n",
    "ax1.set_xlabel(r'Time, $us$')\n",
    "ax1.set_ylabel('Gain, dB')\n",
    "\n",
    "ax1.set_title(\"TGC Gain Curve\")\n",
    "\n",
    "plt.grid()\n",
    "plt.show()\n",
    "        "
   ]
  },
  {
   "cell_type": "code",
   "execution_count": 74,
   "metadata": {},
   "outputs": [
    {
     "data": {
      "text/plain": [
       "8"
      ]
     },
     "execution_count": 74,
     "metadata": {},
     "output_type": "execute_result"
    }
   ],
   "source": [
    "len(depth)\n"
   ]
  }
 ],
 "metadata": {
  "kernelspec": {
   "display_name": "Python 3",
   "language": "python",
   "name": "python3"
  },
  "language_info": {
   "codemirror_mode": {
    "name": "ipython",
    "version": 3
   },
   "file_extension": ".py",
   "mimetype": "text/x-python",
   "name": "python",
   "nbconvert_exporter": "python",
   "pygments_lexer": "ipython3",
   "version": "3.6.5"
  }
 },
 "nbformat": 4,
 "nbformat_minor": 2
}
